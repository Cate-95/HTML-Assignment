{
  "nbformat": 4,
  "nbformat_minor": 0,
  "metadata": {
    "colab": {
      "provenance": [],
      "authorship_tag": "ABX9TyPI1evhxKS5CehdpHDSZK1N",
      "include_colab_link": true
    },
    "kernelspec": {
      "name": "python3",
      "display_name": "Python 3"
    },
    "language_info": {
      "name": "python"
    }
  },
  "cells": [
    {
      "cell_type": "markdown",
      "metadata": {
        "id": "view-in-github",
        "colab_type": "text"
      },
      "source": [
        "<a href=\"https://colab.research.google.com/github/Cate-95/Html-Assignment/blob/main/Cate_Html.ipynb\" target=\"_parent\"><img src=\"https://colab.research.google.com/assets/colab-badge.svg\" alt=\"Open In Colab\"/></a>"
      ]
    },
    {
      "cell_type": "code",
      "execution_count": null,
      "metadata": {
        "id": "8GarDMhJA2N6"
      },
      "outputs": [],
      "source": [
        "\n",
        "<!DOCTYPE html>\n",
        "<html lang=\"en\">\n",
        "<head>\n",
        "    <meta charset=\"UTF-8\">\n",
        "    <meta name=\"viewport\" content=\"width=device-width, initial-scale=1.0\">\n",
        "    <title>My Portfolio</title>\n",
        "    <style>\n",
        "        body {\n",
        "            font-family: Arial, sans-serif;\n",
        "            margin: 0;\n",
        "            padding: 0;\n",
        "        }\n",
        "        nav {\n",
        "            background-color: #333;\n",
        "            color: white;\n",
        "            padding: 10px;\n",
        "        }\n",
        "        nav ul {\n",
        "            list-style-type: none;\n",
        "            margin: 0;\n",
        "            padding: 0;\n",
        "        }\n",
        "        nav ul li {\n",
        "            display: inline;\n",
        "            margin-right: 20px;\n",
        "        }\n",
        "        nav ul li a {\n",
        "            color: white;\n",
        "            text-decoration: none;\n",
        "        }\n",
        "        section {\n",
        "            padding: 20px;\n",
        "        }\n",
        "    </style>\n",
        "</head>\n",
        "<body>\n",
        "    <nav>\n",
        "        <ul>\n",
        "            <li><a href=\"#Home\">Home</a></li>\n",
        "            <li><a href=\"#About\">About</a></li>\n",
        "            <li><a href=\"#Projects\">Projects</a></li>\n",
        "        </ul>\n",
        "    </nav>\n",
        "\n",
        "    <section id=\"Home\">\n",
        "        <h1>Welcome to My Portfolio</h1>\n",
        "        <p>This is the home section of my portfolio where you can learn more about me and my work.</p>\n",
        "    </section>\n",
        "\n",
        "    <section id=\"About\">\n",
        "        <h2>About Me</h2>\n",
        "        <p>I am a passionate web developer.</p>\n",
        "    </section>\n",
        "\n",
        "    <section id=\"Projects\">\n",
        "        <h2>Projects</h2>\n",
        "        <p>Check out some of my recent projects:</p>\n",
        "        <ul>\n",
        "            <li>Project 1: Cate</li>\n",
        "            <li>Project 2: Cool</li>\n",
        "            <li>Project 3: Stuff</li>\n",
        "        </ul>\n",
        "    </section>\n",
        "</body>\n",
        "</html>"
      ]
    }
  ]
}